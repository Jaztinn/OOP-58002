{
  "nbformat": 4,
  "nbformat_minor": 0,
  "metadata": {
    "colab": {
      "name": "Prelim Exam OOP",
      "provenance": [],
      "authorship_tag": "ABX9TyOAgSc50wvdw1X5kNfGb5m6",
      "include_colab_link": true
    },
    "kernelspec": {
      "name": "python3",
      "display_name": "Python 3"
    },
    "language_info": {
      "name": "python"
    }
  },
  "cells": [
    {
      "cell_type": "markdown",
      "metadata": {
        "id": "view-in-github",
        "colab_type": "text"
      },
      "source": [
        "<a href=\"https://colab.research.google.com/github/Jaztinn/OOP-58002/blob/main/Prelim_Exam_OOP.ipynb\" target=\"_parent\"><img src=\"https://colab.research.google.com/assets/colab-badge.svg\" alt=\"Open In Colab\"/></a>"
      ]
    },
    {
      "cell_type": "markdown",
      "source": [
        "\n",
        "\n",
        "*    Write a Python to display your full name, student number, age, and course\n",
        "*   Create a class named Student with attributes: Name, Student_No, Age, School, and Course\n",
        "\n",
        "*   Create an object name Myself and assign an instance for each attribute.\n",
        "*   Create a method Self () using an instantiation of a class.\n",
        "\n",
        "\n",
        "\n",
        "\n",
        "\n",
        "*  Insert your GitHub link \"Prelim Exam\" from your repository named \"OOP 58002\" \n",
        "\n"
      ],
      "metadata": {
        "id": "fYWdzyLBG3vb"
      }
    },
    {
      "cell_type": "code",
      "source": [
        "\n",
        "class Person:\n",
        "  def __init__(self, student, age, number, school, course):\n",
        "    self.student = student\n",
        "    self.age = age\n",
        "    self.number = number\n",
        "    self.school = school\n",
        "    self.course = course\n",
        "  def myFunction(self):\n",
        "    print(\"Hi! Good day My name is \", self.student) \n",
        "    print(\"My age is \", self.age)\n",
        "    print(\"and my student number is\", self.number)\n",
        "    print(\"I'm currently studying in \", self.school)\n",
        "    print(\"and im currently taking  \", self.course)\n",
        "    \n",
        "\n",
        "p1 = Person(\"Espares, Jastin,\", 19,  202111899, \"Adamson University\", \"Bachelor of Science in Computer Engineering (BSCPE)\")\n",
        "p1.myFunction()"
      ],
      "metadata": {
        "colab": {
          "base_uri": "https://localhost:8080/"
        },
        "id": "7_-Xl4vEHc_E",
        "outputId": "6ac363f7-3b06-43ae-9245-a1a35ab6ca82"
      },
      "execution_count": 42,
      "outputs": [
        {
          "output_type": "stream",
          "name": "stdout",
          "text": [
            "Hi! Good day My name is  Espares, Jastin,\n",
            "My age is  19\n",
            "and my student number is 202111899\n",
            "I'm currently studying in  Adamson University\n",
            "and im currently taking   Bachelor of Science in Computer Engineering (BSCPE)\n"
          ]
        }
      ]
    }
  ]
}