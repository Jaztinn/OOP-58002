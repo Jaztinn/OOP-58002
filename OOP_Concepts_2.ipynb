{
  "nbformat": 4,
  "nbformat_minor": 0,
  "metadata": {
    "colab": {
      "name": "OOP_Concepts_2.ipynb",
      "provenance": [],
      "authorship_tag": "ABX9TyNAq2SWjZD1vwY1jqMzhNce",
      "include_colab_link": true
    },
    "kernelspec": {
      "name": "python3",
      "display_name": "Python 3"
    },
    "language_info": {
      "name": "python"
    }
  },
  "cells": [
    {
      "cell_type": "markdown",
      "metadata": {
        "id": "view-in-github",
        "colab_type": "text"
      },
      "source": [
        "<a href=\"https://colab.research.google.com/github/Jaztinn/OOP-58002/blob/main/OOP_Concepts_2.ipynb\" target=\"_parent\"><img src=\"https://colab.research.google.com/assets/colab-badge.svg\" alt=\"Open In Colab\"/></a>"
      ]
    },
    {
      "cell_type": "markdown",
      "source": [
        "Class with Multiple Objects"
      ],
      "metadata": {
        "id": "OIQjDXrTTq8j"
      }
    },
    {
      "cell_type": "code",
      "source": [
        "class Birds:\n",
        "  def __init__(self,bird_name):\n",
        "    self.bird_name = bird_name\n",
        "  def flying_birds(self):\n",
        "    print(f\"{self.bird_name} flies above clouds\")\n",
        "  def non_flying_birds(self):\n",
        "    print(f\"{self.bird_name} is the national bird of the Philippines\")\n",
        "  \n",
        "vulture = Birds(\"Griffon Vulture\")\n",
        "crane = Birds(\"Common Crane\")\n",
        "emu = Birds (\"Emu\")\n",
        "\n",
        "vulture.flying_birds()\n",
        "crane.flying_birds()\n",
        "emu.non_flying_birds()"
      ],
      "metadata": {
        "id": "OFTVl-mPUDDs"
      },
      "execution_count": null,
      "outputs": []
    },
    {
      "cell_type": "markdown",
      "source": [
        "Encapsulation with Private Attributes"
      ],
      "metadata": {
        "id": "-37AaSCrUkGb"
      }
    },
    {
      "cell_type": "code",
      "source": [
        "class foo:\n",
        "  def __init__(self,a,b):\n",
        "    self._a = a\n",
        "    self._b = b\n",
        "  def add(self):\n",
        "    return self._a +self._b\n",
        "foo_object = foo(3,4)\n",
        "#foo_object.add()\n",
        "\n",
        "foo_object.a=6\n",
        "foo_object.add()"
      ],
      "metadata": {
        "colab": {
          "base_uri": "https://localhost:8080/"
        },
        "id": "9wq6rAHqUokV",
        "outputId": "d6a0bdaf-21fd-4528-d5fb-fdd675b1ee8a"
      },
      "execution_count": null,
      "outputs": [
        {
          "output_type": "execute_result",
          "data": {
            "text/plain": [
              "7"
            ]
          },
          "metadata": {},
          "execution_count": 2
        }
      ]
    },
    {
      "cell_type": "code",
      "source": [
        "ass Counter:\n",
        "    def __init__(self):\n",
        "        self.current = 0\n",
        "\n",
        "    def increment(self):\n",
        "        self.current += 1\n",
        "\n",
        "    def value(self):\n",
        "        return self.current\n",
        "\n",
        "    def reset(self):\n",
        "        self.current = 0\n",
        "counter = Counter()\n",
        "\n",
        "\n",
        "#counter.increment()\n",
        "#counter.increment()\n",
        "#counter.increment()\n",
        "\n",
        "print(counter._current)\n",
        "\n",
        "#print(counter.value())"
      ],
      "metadata": {
        "colab": {
          "base_uri": "https://localhost:8080/",
          "height": 132
        },
        "id": "OHxO2iYsVAZE",
        "outputId": "80ad55cd-2695-4600-8145-78341fd5f8d4"
      },
      "execution_count": null,
      "outputs": [
        {
          "output_type": "error",
          "ename": "SyntaxError",
          "evalue": "ignored",
          "traceback": [
            "\u001b[0;36m  File \u001b[0;32m\"<ipython-input-4-d2904f6a5b71>\"\u001b[0;36m, line \u001b[0;32m1\u001b[0m\n\u001b[0;31m    ass Counter:\u001b[0m\n\u001b[0m              ^\u001b[0m\n\u001b[0;31mSyntaxError\u001b[0m\u001b[0;31m:\u001b[0m invalid syntax\n"
          ]
        }
      ]
    },
    {
      "cell_type": "markdown",
      "source": [
        "## Inheritance"
      ],
      "metadata": {
        "id": "Am_a5Y82VCza"
      }
    },
    {
      "cell_type": "code",
      "source": [
        "class Person:       #parent class\n",
        "  def __init__(self,fname,sname):\n",
        "    self.fname = fname\n",
        "    self.sname = sname\n",
        "\n",
        "  def printname(self):\n",
        "    print(self.fname,self.sname)\n",
        "\n",
        "x = Person(\"Jastin Jason\",\"Espares\")\n",
        "x.printname()\n",
        "\n",
        "\n",
        "class Teacher(Person):\n",
        "  pass\n",
        "\n",
        "y = Teacher(\"Maria\",\"Sayo\")\n",
        "y.printname()"
      ],
      "metadata": {
        "colab": {
          "base_uri": "https://localhost:8080/"
        },
        "id": "AC3nDmU2VHeJ",
        "outputId": "ee201191-e07f-418c-c55a-bec81f4893e4"
      },
      "execution_count": null,
      "outputs": [
        {
          "output_type": "stream",
          "name": "stdout",
          "text": [
            "Jastin Jason Espares\n",
            "Maria Sayo\n"
          ]
        }
      ]
    },
    {
      "cell_type": "markdown",
      "source": [
        "# Polymorphism"
      ],
      "metadata": {
        "id": "89_5KBSqVTU2"
      }
    },
    {
      "cell_type": "code",
      "source": [
        "class RegularPolygon:\n",
        "  def __init__(self,side):\n",
        "    self._side = side\n",
        "\n",
        "class Square(RegularPolygon):\n",
        "  def area (self):\n",
        "    return self._side * self._side\n",
        "\n",
        "class EquilateralTriangle(RegularPolygon):\n",
        "  def area(self):\n",
        "    return self._side * self._side * 0.433\n",
        "    \n",
        "obj1 = Square(4)\n",
        "obj2 = EquilateralTriangle(3)\n",
        "\n",
        "print(obj1.area())\n",
        "print(obj2.area())"
      ],
      "metadata": {
        "colab": {
          "base_uri": "https://localhost:8080/"
        },
        "id": "Vdt0DuuAVVS0",
        "outputId": "4129223e-595d-4e81-dab6-70fe5c6c8c38"
      },
      "execution_count": null,
      "outputs": [
        {
          "output_type": "stream",
          "name": "stdout",
          "text": [
            "16\n",
            "3.897\n"
          ]
        }
      ]
    },
    {
      "cell_type": "markdown",
      "source": [
        "# Application 1                                                              \n",
        "30% Prelim + 30% Midterm + 40% Final =\n",
        "Sem Grade\n",
        "\n",
        "Create a Python program that displays the name of three students (Student 1, Student 2, Student 3) and their grades.\n",
        "Create a class name Person and attributes - std1, std2, std3, pre, mid, fin.\n",
        "Compute the average of each term grade using Grade() method.\n",
        "Information about student's grades must be hidden from others."
      ],
      "metadata": {
        "id": "QmyQlNovVkxC"
      }
    },
    {
      "cell_type": "code",
      "source": [
        "#Application 1\n",
        "class Person:\n",
        "  def __init__(self,std1,std2,std3,pre,mid,fin):\n",
        "    self._std1 = std1\n",
        "    self._std2 = std2\n",
        "    self._std3 = std3\n",
        "    self._pre = pre\n",
        "    self._mid = mid\n",
        "    self._fin = fin\n",
        "\n",
        "  def Grade(self):\n",
        "    print(\"_______________________________\")\n",
        "    print(\"Student Name =\", self._std1, self._std2, self._std3)\n",
        "    print(\"_______________________________\")\n",
        "    print(\"Prelim Grade =\", int(self._pre))\n",
        "    print(\"Midterm Grade =\", int(self._mid)) \n",
        "    print(\"Final Grade =\", int(self._fin))  \n",
        "    print(\"_______________________________\")\n",
        "    print(\"Semestral Grade =\", int(self._pre*.30) + int(self._mid*.30) + int(self._fin*.40))  \n",
        "   \n",
        "  \n",
        "student1 = Person(\"Monkey Luffy\",\"\",\"\", 89, 90, 87)\n",
        "student2 = Person(\"\",\"Jastin Espares\",\"\", 96, 94, 90)\n",
        "student3 = Person(\"\",\"\",\"Lamelo Ball\", 85, 84, 84)\n",
        "\n",
        "name = input(str(\"Enter your Last name: \"))\n",
        "\n",
        "if name == \"Luffy\" or name == \"luffy\":\n",
        "  student1.Grade()\n",
        "elif name == \"Espares\" or name == \"espares\":\n",
        "  student2.Grade()\n",
        "elif name == \"Ball\" or name == \"ball\":\n",
        "  student3.Grade()\n",
        "else:\n",
        "  print(\"\\n!!No Database for this Student!!\")"
      ],
      "metadata": {
        "colab": {
          "base_uri": "https://localhost:8080/"
        },
        "id": "mvN0dLlUV6fS",
        "outputId": "6b964c0e-bc6f-4151-a43d-28b810b1ef5e"
      },
      "execution_count": null,
      "outputs": [
        {
          "output_type": "stream",
          "name": "stdout",
          "text": [
            "Enter your Last name: Espares\n",
            "_______________________________\n",
            "Student Name =  Jastin Espares \n",
            "_______________________________\n",
            "Prelim Grade = 96\n",
            "Midterm Grade = 94\n",
            "Final Grade = 90\n",
            "_______________________________\n",
            "Semestral Grade = 92\n"
          ]
        }
      ]
    }
  ]
}