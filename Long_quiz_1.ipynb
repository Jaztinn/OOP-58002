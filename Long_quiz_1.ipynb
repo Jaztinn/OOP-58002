{
  "nbformat": 4,
  "nbformat_minor": 0,
  "metadata": {
    "colab": {
      "name": "Long quiz 1",
      "provenance": [],
      "authorship_tag": "ABX9TyPBm3j1QRnzwPMiFqWxxzsO",
      "include_colab_link": true
    },
    "kernelspec": {
      "name": "python3",
      "display_name": "Python 3"
    },
    "language_info": {
      "name": "python"
    }
  },
  "cells": [
    {
      "cell_type": "markdown",
      "metadata": {
        "id": "view-in-github",
        "colab_type": "text"
      },
      "source": [
        "<a href=\"https://colab.research.google.com/github/Jaztinn/OOP-58002/blob/main/Long_quiz_1.ipynb\" target=\"_parent\"><img src=\"https://colab.research.google.com/assets/colab-badge.svg\" alt=\"Open In Colab\"/></a>"
      ]
    },
    {
      "cell_type": "markdown",
      "source": [
        "Long Quiz 1 Espares\n",
        "\n",
        "Write a Python program that asks the user to enter Celsius and convert it to Fahrenheit.\n",
        "Create a class name Temperature and Celsius as attributes\n",
        "\n",
        "Create a method Display() the Fahrenheit using an instantiation of a class.\n",
        "\n",
        "Create a Fahrenheit() method to convert Celsius to Fahrenheit."
      ],
      "metadata": {
        "id": "MJar5sV8YgE-"
      }
    },
    {
      "cell_type": "code",
      "source": [
        "class Temperature():\n",
        "  def __init__(self,Celsius):\n",
        "    self.Celsius = Celsius\n",
        "   \n",
        "  def Fahrenheit(self):\n",
        "    result = (self.Celsius * 1.8) + 32\n",
        "    return result\n",
        "    \n",
        "input_Temperature = float(input(\"Insert a Temperature in Celsius: \"))\n",
        "temp = Temperature(input_Temperature)\n",
        "\n",
        "print(\"The answer is\",temp.Fahrenheit())"
      ],
      "metadata": {
        "colab": {
          "base_uri": "https://localhost:8080/"
        },
        "id": "REqXfV59YlsY",
        "outputId": "f1dfc483-482a-4d87-9b52-174a911995c8"
      },
      "execution_count": 1,
      "outputs": [
        {
          "output_type": "stream",
          "name": "stdout",
          "text": [
            "Insert a Temperature in Celsius: 35.6\n",
            "The answer is 96.08\n"
          ]
        }
      ]
    }
  ]
}